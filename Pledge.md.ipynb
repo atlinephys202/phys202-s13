{
 "metadata": {
  "name": "Pledge.md"
 },
 "nbformat": 3,
 "nbformat_minor": 0,
 "worksheets": [
  {
   "cells": [
    {
     "cell_type": "markdown",
     "metadata": {},
     "source": [
      "Pledge\n",
      "-"
     ]
    },
    {
     "cell_type": "markdown",
     "metadata": {},
     "source": [
      "I have read and understand the rules regarding academic honesty and I agree to abide by them.\n",
      "I pledge on my honor that I have not given or received any unauthorized assistance on assignments\n",
      "or examinations in this course.\n",
      "Signed: Aaron Line\n",
      "Dated: 5/7/2013"
     ]
    },
    {
     "cell_type": "code",
     "collapsed": false,
     "input": [],
     "language": "python",
     "metadata": {},
     "outputs": []
    }
   ],
   "metadata": {}
  }
 ]
}