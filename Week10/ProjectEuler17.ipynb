{
 "metadata": {
  "name": "ProjectEuler17"
 },
 "nbformat": 3,
 "nbformat_minor": 0,
 "worksheets": [
  {
   "cells": [
    {
     "cell_type": "markdown",
     "metadata": {},
     "source": [
      "ProjectEuler17\n",
      "-"
     ]
    },
    {
     "cell_type": "code",
     "collapsed": false,
     "input": [
      "# one, two, three, four, five, six, seven, eight, nine\n",
      "single = [0,3,3,5,4,4,3,5,5,4]\n",
      "# ten, eleven, twelve, thirteen, fourteen, fifteen, sixteen, seventeen, eighteen, nineteen\n",
      "teens = [3,6,6,8,8,7,7,9,8,8]\n",
      "# twenty, thirty, forty, fifty, sixty, seventy, eighty, ninety\n",
      "double = [6,6,5,5,5,7,6,6]\n",
      "# hundred and\n",
      "hundred = [10]\n",
      "# one thousand\n",
      "thousand = [11]\n",
      "\n",
      "letters=0\n",
      "for i in range(22):\n",
      "    if len(str(i))==1:\n",
      "        letters += single[i]\n",
      "    elif len(str(i))==2 and i<20 and i>9:\n",
      "        letters += teens[i-10]\n",
      "    elif len(str(i))==2 and i<30 and i>19:\n",
      "        letters += double[0] + single[int(str(i)[1])]\n",
      "    elif len(str(i))==2 and i<40 and i>29:\n",
      "        letters += double[1] + single[int(str(i)[1])]\n",
      "    elif len(str(i))==2 and i<50 and i>39:\n",
      "        letters += \n",
      "print letters"
     ],
     "language": "python",
     "metadata": {},
     "outputs": [
      {
       "output_type": "stream",
       "stream": "stdout",
       "text": [
        "121\n"
       ]
      }
     ],
     "prompt_number": 19
    },
    {
     "cell_type": "code",
     "collapsed": false,
     "input": [],
     "language": "python",
     "metadata": {},
     "outputs": [
      {
       "output_type": "pyout",
       "prompt_number": 20,
       "text": [
        "121"
       ]
      }
     ],
     "prompt_number": 20
    },
    {
     "cell_type": "code",
     "collapsed": false,
     "input": [],
     "language": "python",
     "metadata": {},
     "outputs": []
    }
   ],
   "metadata": {}
  }
 ]
}