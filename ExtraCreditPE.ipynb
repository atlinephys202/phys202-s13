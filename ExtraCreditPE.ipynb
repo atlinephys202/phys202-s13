{
 "metadata": {
  "name": "ExtraCreditPE"
 },
 "nbformat": 3,
 "nbformat_minor": 0,
 "worksheets": [
  {
   "cells": [
    {
     "cell_type": "code",
     "collapsed": false,
     "input": [
      "digits =list(str(2**1000))\n",
      "sum_=0\n",
      "\n",
      "for i in digits:\n",
      "    sum_ += int(i)\n",
      "    #print sum_\n",
      "\n",
      "print sum_"
     ],
     "language": "python",
     "metadata": {},
     "outputs": [
      {
       "output_type": "stream",
       "stream": "stdout",
       "text": [
        "1366\n"
       ]
      }
     ],
     "prompt_number": 13
    },
    {
     "cell_type": "code",
     "collapsed": false,
     "input": [],
     "language": "python",
     "metadata": {},
     "outputs": [],
     "prompt_number": 13
    },
    {
     "cell_type": "code",
     "collapsed": false,
     "input": [],
     "language": "python",
     "metadata": {},
     "outputs": []
    }
   ],
   "metadata": {}
  }
 ]
}