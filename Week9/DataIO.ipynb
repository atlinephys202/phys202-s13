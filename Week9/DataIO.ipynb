{
 "metadata": {
  "name": "DataIO"
 },
 "nbformat": 3,
 "nbformat_minor": 0,
 "worksheets": [
  {
   "cells": [
    {
     "cell_type": "code",
     "collapsed": false,
     "input": [
      "DataIn = loadtxt('input.dat')\n",
      "print DataIn.shape\n",
      "print DataIn"
     ],
     "language": "python",
     "metadata": {},
     "outputs": [
      {
       "output_type": "stream",
       "stream": "stdout",
       "text": [
        "(5, 3)\n",
        "[[ 0.   1.1  0.1]\n",
        " [ 2.   1.9  0.2]\n",
        " [ 4.   3.2  0.1]\n",
        " [ 6.   4.   0.3]\n",
        " [ 8.   5.9  0.3]]\n"
       ]
      }
     ],
     "prompt_number": 2
    },
    {
     "cell_type": "code",
     "collapsed": false,
     "input": [
      "print DataIn[:,2] # gives from first to last of 2 column"
     ],
     "language": "python",
     "metadata": {},
     "outputs": [
      {
       "output_type": "stream",
       "stream": "stdout",
       "text": [
        "[ 0.1  0.2  0.1  0.3  0.3]\n"
       ]
      }
     ],
     "prompt_number": 3
    },
    {
     "cell_type": "code",
     "collapsed": false,
     "input": [
      "x, y, yerr = loadtxt('input.dat', unpack=True)\n",
      "print x\n",
      "print y\n",
      "print yerr"
     ],
     "language": "python",
     "metadata": {},
     "outputs": [
      {
       "output_type": "stream",
       "stream": "stdout",
       "text": [
        "[ 0.  2.  4.  6.  8.]\n",
        "[ 1.1  1.9  3.2  4.   5.9]\n",
        "[ 0.1  0.2  0.1  0.3  0.3]\n"
       ]
      }
     ],
     "prompt_number": 4
    },
    {
     "cell_type": "code",
     "collapsed": false,
     "input": [
      "x,y = loadtxt('input.dat', unpack = True, usecols=[0,1])\n",
      "#makes easier cuz you dont have to define all the variables\n",
      "print x\n",
      "print y"
     ],
     "language": "python",
     "metadata": {},
     "outputs": [
      {
       "output_type": "stream",
       "stream": "stdout",
       "text": [
        "[ 0.  2.  4.  6.  8.]\n",
        "[ 1.1  1.9  3.2  4.   5.9]\n"
       ]
      }
     ],
     "prompt_number": 8
    },
    {
     "cell_type": "code",
     "collapsed": false,
     "input": [
      "x, y = loadtxt('input.csv',unpack=True, delimiter=',',usecols=[0,1])\n",
      "print x,y"
     ],
     "language": "python",
     "metadata": {},
     "outputs": [
      {
       "output_type": "stream",
       "stream": "stdout",
       "text": [
        "[ 0.  2.  4.  6.  8.] [ 1.1  1.9  3.2  4.   5.9]\n"
       ]
      }
     ],
     "prompt_number": 9
    },
    {
     "cell_type": "code",
     "collapsed": false,
     "input": [
      "t = array([0.0,0.1,0.2,0.3,0.4,0.5,0.6,0.7,0.8,0.9])\n",
      "v = array([0.137,0.456,0.591,0.713,0.859,0.926,1.139,1.327,1.512,1.875])\n",
      "\n",
      "print t\n",
      "print v"
     ],
     "language": "python",
     "metadata": {},
     "outputs": [
      {
       "output_type": "stream",
       "stream": "stdout",
       "text": [
        "[ 0.   0.1  0.2  0.3  0.4  0.5  0.6  0.7  0.8  0.9]\n",
        "[ 0.137  0.456  0.591  0.713  0.859  0.926  1.139  1.327  1.512  1.875]\n"
       ]
      }
     ],
     "prompt_number": 15
    },
    {
     "cell_type": "code",
     "collapsed": false,
     "input": [
      "p = 0.15+(v/10.0)\n",
      "print p"
     ],
     "language": "python",
     "metadata": {},
     "outputs": [
      {
       "output_type": "stream",
       "stream": "stdout",
       "text": [
        "[ 0.1637  0.1956  0.2091  0.2213  0.2359  0.2426  0.2639  0.2827  0.3012\n",
        "  0.3375]\n"
       ]
      }
     ],
     "prompt_number": 16
    },
    {
     "cell_type": "code",
     "collapsed": false,
     "input": [
      "savetxt('output.dat',(t,p))  #make sure all same length"
     ],
     "language": "python",
     "metadata": {},
     "outputs": [],
     "prompt_number": 17
    },
    {
     "cell_type": "code",
     "collapsed": false,
     "input": [
      "DataOut = column_stack((t,p))  # put data into columns\n",
      "savetxt('output.dat',DataOut)"
     ],
     "language": "python",
     "metadata": {},
     "outputs": [],
     "prompt_number": 18
    },
    {
     "cell_type": "code",
     "collapsed": false,
     "input": [
      "### fmt = '%(width).(precision)(specifier)'\n",
      "# width = max digits\n",
      "# precision = digits after decimal\n",
      "# specifier = i,e,f\n",
      "# i = signed integer\n",
      "# e = scientific notation\n",
      "# f = floating point"
     ],
     "language": "python",
     "metadata": {},
     "outputs": [],
     "prompt_number": 19
    },
    {
     "cell_type": "code",
     "collapsed": false,
     "input": [
      "savetxt('output.dat',DataOut, fmt = ('%3i','%4.3f'))"
     ],
     "language": "python",
     "metadata": {},
     "outputs": [],
     "prompt_number": 21
    },
    {
     "cell_type": "code",
     "collapsed": false,
     "input": [
      "f = open('output.dat','w')\n",
      "f.write('My comment Line!! Follow by a blank line.')\n",
      "savetxt(f,DataOut, fmt=('%3i','%4.3f'))\n",
      "f.close()"
     ],
     "language": "python",
     "metadata": {},
     "outputs": [],
     "prompt_number": 22
    },
    {
     "cell_type": "code",
     "collapsed": false,
     "input": [
      "def LinearLastSquaresFit(x,y):\n",
      "    x_avg = (1/float(len(x)))*sum(x)\n",
      "    x_sqr_avg = (1/float(len(x)))*sum(x**2)\n",
      "    y_avg = (1/float(len(x)))*sum(y)\n",
      "    xy_avg = (1/float(len(x)))*sum(x*y)\n",
      "    slope = (xy_avg - x_avg*y_avg)/(x_sqr_avg - x_avg**2)\n",
      "    intercept = (x_sqr_avg * y_avg - x_avg*xy_avg)/(x_sqr_avg - x_avg**2)\n",
      "    delta_sqr_avg = (1/float(len(x)))*(sum((y-(slope*x+intercept))**2))\n",
      "    slope_error = sqrt(1/(float(len(x)-2)))*sqrt(delta_sqr_avg/(x_sqr_avg - x_avg**2))\n",
      "    intercept_error = sqrt(1/(float(len(x)-2)))*sqrt((delta_sqr_avg*x_sqr_avg)/(x_sqr_avg - x_avg**2))\n",
      "    return slope,intercept,slope_error,intercept_error"
     ],
     "language": "python",
     "metadata": {},
     "outputs": [],
     "prompt_number": 54
    },
    {
     "cell_type": "code",
     "collapsed": false,
     "input": [
      "x,y = loadtxt('linearData.csv',unpack=True,delimiter = ',',usecols=[0,1])\n",
      "print x\n",
      "print y"
     ],
     "language": "python",
     "metadata": {},
     "outputs": [
      {
       "output_type": "stream",
       "stream": "stdout",
       "text": [
        "[  1.   2.   3.   4.   5.   6.   7.   8.   9.  10.]\n",
        "[ 7.75  7.33  6.89  6.45  5.96  5.55  5.1   4.49  3.93  3.58]\n"
       ]
      }
     ],
     "prompt_number": 55
    },
    {
     "cell_type": "code",
     "collapsed": false,
     "input": [
      "LinearLastSquaresFit(x,y)"
     ],
     "language": "python",
     "metadata": {},
     "outputs": [
      {
       "output_type": "pyout",
       "prompt_number": 56,
       "text": [
        "(-0.47145454545454479,\n",
        " 8.2959999999999976,\n",
        " 0.0079948330421529511,\n",
        " 0.04960663445365119)"
       ]
      }
     ],
     "prompt_number": 56
    },
    {
     "cell_type": "code",
     "collapsed": false,
     "input": [
      "slope = list(LinearLastSquaresFit(x,y))[0]\n",
      "intercept = list(LinearLastSquaresFit(x,y))[1]\n",
      "slope_error = list(LinearLastSquaresFit(x,y))[2]\n",
      "intercept_error = list(LinearLastSquaresFit(x,y))[3]\n",
      "scatter(x,y,label=\"points\",color='black')\n",
      "plot(x,slope*x + intercept,lw=2,color=\"blue\",label=\"y = %.4f x + %.4f\" % (slope,intercept))\n",
      "plot(x,(slope+slope_error)*x + (intercept+intercept_error),lw=2,color=\"red\",linestyle=\"--\",label=\"error+\")\n",
      "plot(x,(slope-slope_error)*x + (intercept-intercept_error),lw=2,color=\"green\",linestyle=\"--\",label=\"error-\")\n",
      "legend(loc=\"upper right\")\n",
      "xlim(0.7,10.5)\n",
      "ylim(3.3,8)\n",
      "show()"
     ],
     "language": "python",
     "metadata": {},
     "outputs": [
      {
       "output_type": "display_data",
       "png": "[encoded data removed]"
      }
     ],
     "prompt_number": 108
    },
    {
     "cell_type": "code",
     "collapsed": false,
     "input": [
      "def WeightedLinearLeastSquaresFit(x,y,w):\n",
      "    w_sum = sum(w)\n",
      "    wy_sum = sum(w*y)\n",
      "    wx_sum = sum(w*x)\n",
      "    wxy_sum = sum(w*x*y)\n",
      "    w_x_sqr_sum = sum(w*(x**2))\n",
      "    wx_sum_sqr = (sum(w*x))**2\n",
      "    intercept_ = (w_x_sqr_sum*wy_sum - wx_sum*wxy_sum)/(w_sum*w_x_sqr_sum - wx_sum_sqr)\n",
      "    slope_ = (w_sum*wxy_sum - wx_sum*wy_sum)/(w_sum*w_x_sqr_sum - wx_sum_sqr)\n",
      "    slope_error_ = sqrt((w_sum)/(w_sum*w_x_sqr_sum - wx_sum_sqr))\n",
      "    intercept_error_ = sqrt((w_x_sqr_sum)/(w_sum*w_x_sqr_sum - wx_sum_sqr))\n",
      "    return slope_,slope_error_,intercept_,intercept_error_"
     ],
     "language": "python",
     "metadata": {},
     "outputs": [],
     "prompt_number": 120
    },
    {
     "cell_type": "code",
     "collapsed": false,
     "input": [
      "x,y,u = loadtxt('linearData.dat',unpack=True)\n",
      "w = 1/(u**2)\n",
      "WeightedLinearLeastSquaresFit(x,y,w)"
     ],
     "language": "python",
     "metadata": {},
     "outputs": [
      {
       "output_type": "pyout",
       "prompt_number": 117,
       "text": [
        "(-0.45102398348675593,\n",
        " 0.0065758708587924392,\n",
        " 8.220071817895505,\n",
        " 0.021437765208320705)"
       ]
      }
     ],
     "prompt_number": 117
    },
    {
     "cell_type": "code",
     "collapsed": false,
     "input": [
      "slope_ = list(WeightedLinearLeastSquaresFit(x,y,w))[0]\n",
      "slope_error_ = list(WeightedLinearLeastSquaresFit(x,y,w))[1]\n",
      "intercept_ = list(WeightedLinearLeastSquaresFit(x,y,w))[2]\n",
      "intercept_error_ = list(WeightedLinearLeastSquaresFit(x,y,w))[3]\n",
      "scatter(x,y,label=\"points\",color='black')\n",
      "plot(x,slope*x + intercept,lw=2,color=\"blue\",label=\" LSQ  y = %.4f x + %.4f\" % (slope,intercept))\n",
      "#plot(x,(slope+slope_error)*x + (intercept+intercept_error),lw=2,color=\"red\",linestyle=\"--\",label=\"LSQ error+\")\n",
      "#plot(x,(slope-slope_error)*x + (intercept-intercept_error),lw=2,color=\"green\",linestyle=\"--\",label=\"LSQ error-\")\n",
      "plot(x,slope_*x + intercept_,lw=2,color=\"grey\",label=\"WSLQ  y= %.4f x + %.4f\" %(slope_,intercept_))\n",
      "plot(x,(slope_+slope_error_)*x + (intercept_+intercept_error_),lw=2,color = \"grey\",linestyle=\"--\")\n",
      "plot(x,(slope_-slope_error_)*x + (intercept_-intercept_error_),lw=2,color=\"grey\",linestyle=\"--\")\n",
      "legend(loc=\"best\")\n",
      "xlim(.5,10.5)\n",
      "ylim(3,8)\n",
      "errorbar(slope_,intercept_,slope_error_,intercept_error_,ecolor=\"grey\",elinewidth=2,label=\"errorbar\")\n",
      "show()"
     ],
     "language": "python",
     "metadata": {},
     "outputs": [
      {
       "output_type": "display_data",
       "png": "[encoded data removed]"
      }
     ],
     "prompt_number": 140
    },
    {
     "cell_type": "code",
     "collapsed": false,
     "input": [],
     "language": "python",
     "metadata": {},
     "outputs": [],
     "prompt_number": 139
    },
    {
     "cell_type": "code",
     "collapsed": false,
     "input": [],
     "language": "python",
     "metadata": {},
     "outputs": [],
     "prompt_number": 132
    },
    {
     "cell_type": "code",
     "collapsed": false,
     "input": [],
     "language": "python",
     "metadata": {},
     "outputs": []
    }
   ],
   "metadata": {}
  }
 ]
}