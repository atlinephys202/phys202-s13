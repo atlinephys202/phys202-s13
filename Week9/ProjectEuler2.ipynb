{
 "metadata": {
  "name": "ProjectEuler2"
 },
 "nbformat": 3,
 "nbformat_minor": 0,
 "worksheets": [
  {
   "cells": [
    {
     "cell_type": "code",
     "collapsed": false,
     "input": [
      "numbers[0:10]"
     ],
     "language": "python",
     "metadata": {},
     "outputs": [
      {
       "output_type": "pyout",
       "prompt_number": 38,
       "text": [
        "[1, 2, 3, 5, 8, 13, 21, 34, 55, 89]"
       ]
      }
     ],
     "prompt_number": 38
    },
    {
     "cell_type": "code",
     "collapsed": false,
     "input": [
      "numbers = [1,2,3,5,8]\n",
      "sum_=0\n",
      "for i in range(28):\n",
      "    numbers.append((numbers[3+i])+(numbers[4+i]))\n",
      "    number = numbers[::-1]\n",
      "    if number[0] < 4000000:\n",
      "        if number[0] %2==0:\n",
      "            print number[0]\n",
      "            sum_+= number[0]\n",
      "print sum_+10 #because it doesnt count the first two evens...\n",
      "print numbers[0:10]\n",
      "    "
     ],
     "language": "python",
     "metadata": {},
     "outputs": [
      {
       "output_type": "stream",
       "stream": "stdout",
       "text": [
        "34\n",
        "144\n",
        "610\n",
        "2584\n",
        "10946\n",
        "46368\n",
        "196418\n",
        "832040\n",
        "3524578\n",
        "4613732\n",
        "[1, 2, 3, 5, 8, 13, 21, 34, 55, 89]\n"
       ]
      }
     ],
     "prompt_number": 37
    },
    {
     "cell_type": "code",
     "collapsed": false,
     "input": [],
     "language": "python",
     "metadata": {},
     "outputs": []
    }
   ],
   "metadata": {}
  }
 ]
}