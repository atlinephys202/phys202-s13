{
 "metadata": {
  "name": "NumPyEx1"
 },
 "nbformat": 3,
 "nbformat_minor": 0,
 "worksheets": [
  {
   "cells": [
    {
     "cell_type": "code",
     "collapsed": false,
     "input": [
      "#1A"
     ],
     "language": "python",
     "metadata": {},
     "outputs": [],
     "prompt_number": 52
    },
    {
     "cell_type": "code",
     "collapsed": false,
     "input": [
      "np.diag(np.linspace(2,6,5))"
     ],
     "language": "python",
     "metadata": {},
     "outputs": [
      {
       "output_type": "pyout",
       "prompt_number": 53,
       "text": [
        "array([[ 2.,  0.,  0.,  0.,  0.],\n",
        "       [ 0.,  3.,  0.,  0.,  0.],\n",
        "       [ 0.,  0.,  4.,  0.,  0.],\n",
        "       [ 0.,  0.,  0.,  5.,  0.],\n",
        "       [ 0.,  0.,  0.,  0.,  6.]])"
       ]
      }
     ],
     "prompt_number": 53
    },
    {
     "cell_type": "code",
     "collapsed": false,
     "input": [
      "#1B"
     ],
     "language": "python",
     "metadata": {},
     "outputs": [],
     "prompt_number": 55
    },
    {
     "cell_type": "code",
     "collapsed": false,
     "input": [
      "a=np.diag(np.zeros(4,dtype=int))\n",
      "b=a+1\n",
      "b[3,1]=6\n",
      "b[2,3]=2"
     ],
     "language": "python",
     "metadata": {},
     "outputs": [],
     "prompt_number": 59
    },
    {
     "cell_type": "code",
     "collapsed": false,
     "input": [
      "b"
     ],
     "language": "python",
     "metadata": {},
     "outputs": [
      {
       "output_type": "pyout",
       "prompt_number": 60,
       "text": [
        "array([[1, 1, 1, 1],\n",
        "       [1, 1, 1, 1],\n",
        "       [1, 1, 1, 2],\n",
        "       [1, 6, 1, 1]])"
       ]
      }
     ],
     "prompt_number": 60
    },
    {
     "cell_type": "code",
     "collapsed": false,
     "input": [
      "#2"
     ],
     "language": "python",
     "metadata": {},
     "outputs": [],
     "prompt_number": 61
    },
    {
     "cell_type": "code",
     "collapsed": false,
     "input": [
      "help(tile)"
     ],
     "language": "python",
     "metadata": {},
     "outputs": [
      {
       "output_type": "stream",
       "stream": "stdout",
       "text": [
        "Help on function tile in module numpy.lib.shape_base:\n",
        "\n",
        "tile(A, reps)\n",
        "    Construct an array by repeating A the number of times given by reps.\n",
        "    \n",
        "    If `reps` has length ``d``, the result will have dimension of\n",
        "    ``max(d, A.ndim)``.\n",
        "    \n",
        "    If ``A.ndim < d``, `A` is promoted to be d-dimensional by prepending new\n",
        "    axes. So a shape (3,) array is promoted to (1, 3) for 2-D replication,\n",
        "    or shape (1, 1, 3) for 3-D replication. If this is not the desired\n",
        "    behavior, promote `A` to d-dimensions manually before calling this\n",
        "    function.\n",
        "    \n",
        "    If ``A.ndim > d``, `reps` is promoted to `A`.ndim by pre-pending 1's to it.\n",
        "    Thus for an `A` of shape (2, 3, 4, 5), a `reps` of (2, 2) is treated as\n",
        "    (1, 1, 2, 2).\n",
        "    \n",
        "    Parameters\n",
        "    ----------\n",
        "    A : array_like\n",
        "        The input array.\n",
        "    reps : array_like\n",
        "        The number of repetitions of `A` along each axis.\n",
        "    \n",
        "    Returns\n",
        "    -------\n",
        "    c : ndarray\n",
        "        The tiled output array.\n",
        "    \n",
        "    See Also\n",
        "    --------\n",
        "    repeat : Repeat elements of an array.\n",
        "    \n",
        "    Examples\n",
        "    --------\n",
        "    >>> a = np.array([0, 1, 2])\n",
        "    >>> np.tile(a, 2)\n",
        "    array([0, 1, 2, 0, 1, 2])\n",
        "    >>> np.tile(a, (2, 2))\n",
        "    array([[0, 1, 2, 0, 1, 2],\n",
        "           [0, 1, 2, 0, 1, 2]])\n",
        "    >>> np.tile(a, (2, 1, 2))\n",
        "    array([[[0, 1, 2, 0, 1, 2]],\n",
        "           [[0, 1, 2, 0, 1, 2]]])\n",
        "    \n",
        "    >>> b = np.array([[1, 2], [3, 4]])\n",
        "    >>> np.tile(b, 2)\n",
        "    array([[1, 2, 1, 2],\n",
        "           [3, 4, 3, 4]])\n",
        "    >>> np.tile(b, (2, 1))\n",
        "    array([[1, 2],\n",
        "           [3, 4],\n",
        "           [1, 2],\n",
        "           [3, 4]])\n",
        "\n"
       ]
      }
     ],
     "prompt_number": 66
    },
    {
     "cell_type": "code",
     "collapsed": false,
     "input": [
      "q = np.array([[4,3],[2,1]])\n",
      "q"
     ],
     "language": "python",
     "metadata": {},
     "outputs": [
      {
       "output_type": "pyout",
       "prompt_number": 73,
       "text": [
        "array([[4, 3],\n",
        "       [2, 1]])"
       ]
      }
     ],
     "prompt_number": 73
    },
    {
     "cell_type": "code",
     "collapsed": false,
     "input": [
      "np.tile(q, (2,3))"
     ],
     "language": "python",
     "metadata": {},
     "outputs": [
      {
       "output_type": "pyout",
       "prompt_number": 77,
       "text": [
        "array([[4, 3, 4, 3, 4, 3],\n",
        "       [2, 1, 2, 1, 2, 1],\n",
        "       [4, 3, 4, 3, 4, 3],\n",
        "       [2, 1, 2, 1, 2, 1]])"
       ]
      }
     ],
     "prompt_number": 77
    },
    {
     "cell_type": "code",
     "collapsed": false,
     "input": [
      "#3"
     ],
     "language": "python",
     "metadata": {},
     "outputs": [],
     "prompt_number": 78
    },
    {
     "cell_type": "code",
     "collapsed": false,
     "input": [
      "is_prime = np.ones((100,),dtype=bool)\n",
      "is_prime"
     ],
     "language": "python",
     "metadata": {},
     "outputs": [
      {
       "output_type": "pyout",
       "prompt_number": 82,
       "text": [
        "array([ True,  True,  True,  True,  True,  True,  True,  True,  True,\n",
        "        True,  True,  True,  True,  True,  True,  True,  True,  True,\n",
        "        True,  True,  True,  True,  True,  True,  True,  True,  True,\n",
        "        True,  True,  True,  True,  True,  True,  True,  True,  True,\n",
        "        True,  True,  True,  True,  True,  True,  True,  True,  True,\n",
        "        True,  True,  True,  True,  True,  True,  True,  True,  True,\n",
        "        True,  True,  True,  True,  True,  True,  True,  True,  True,\n",
        "        True,  True,  True,  True,  True,  True,  True,  True,  True,\n",
        "        True,  True,  True,  True,  True,  True,  True,  True,  True,\n",
        "        True,  True,  True,  True,  True,  True,  True,  True,  True,\n",
        "        True,  True,  True,  True,  True,  True,  True,  True,  True,  True], dtype=bool)"
       ]
      }
     ],
     "prompt_number": 82
    },
    {
     "cell_type": "code",
     "collapsed": false,
     "input": [
      "#4"
     ],
     "language": "python",
     "metadata": {},
     "outputs": [],
     "prompt_number": 83
    },
    {
     "cell_type": "code",
     "collapsed": false,
     "input": [
      "from scipy import misc\n",
      "lena = misc.lena()\n"
     ],
     "language": "python",
     "metadata": {},
     "outputs": [],
     "prompt_number": 86
    },
    {
     "cell_type": "code",
     "collapsed": false,
     "input": [],
     "language": "python",
     "metadata": {},
     "outputs": []
    }
   ],
   "metadata": {}
  }
 ]
}