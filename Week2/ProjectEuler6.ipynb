{
 "metadata": {
  "name": "ProjectEuler6"
 },
 "nbformat": 3,
 "nbformat_minor": 0,
 "worksheets": [
  {
   "cells": [
    {
     "cell_type": "code",
     "collapsed": false,
     "input": [
      "sqr_ = 0\n",
      "sum_ = 0\n",
      "\n",
      "\n",
      "i=1\n",
      "for number in range(101):\n",
      "    sqr_+= number**2\n",
      "    sum_+= number\n",
      "sumsqr_ = sum_**2\n",
      "print sumsqr_-sqr_"
     ],
     "language": "python",
     "metadata": {},
     "outputs": [
      {
       "output_type": "stream",
       "stream": "stdout",
       "text": [
        "25164150\n"
       ]
      }
     ],
     "prompt_number": 14
    },
    {
     "cell_type": "code",
     "collapsed": false,
     "input": [],
     "language": "python",
     "metadata": {},
     "outputs": []
    }
   ],
   "metadata": {}
  }
 ]
}