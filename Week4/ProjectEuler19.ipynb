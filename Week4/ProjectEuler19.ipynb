{
 "metadata": {
  "name": "ProjectEuler19"
 },
 "nbformat": 3,
 "nbformat_minor": 0,
 "worksheets": [
  {
   "cells": [
    {
     "cell_type": "code",
     "collapsed": false,
     "input": [
      "def number_days(month_,year_):\n",
      "    if (month_ == 1) or (month_ == 3) or (month_ == 5) or (month_ == 7) or (month_ == 8) or (month_ == 10) or (month_ == 12):\n",
      "        return 31\n",
      "    elif (month_ == 4) or (month_ == 6) or (month_ == 9) or (month_ == 11):\n",
      "        return 30\n",
      "    elif (month_ == 2):\n",
      "        if (year_ % 4 == 0):\n",
      "            if (year_ % 100 == 0):\n",
      "                if (year_ % 400 ==0):\n",
      "                    return 29\n",
      "                else:\n",
      "                    return 28\n",
      "            else:\n",
      "                return 29\n",
      "        else:\n",
      "            return 28\n",
      "    else:\n",
      "        print \"What calendar are you on?\"\n",
      "\n",
      "W = {1:\"Tues\", 2:\"Wed\", 3:\"Thurs\", 4:\"Fri\", 5:\"Sat\", 6:\"Sun\", 7:\"Mon\"} #1/1/1901 was a Tuesday\n",
      "monthday = 1\n",
      "sundays = 0\n",
      "for year_  in range(1901,2001): \n",
      "    for month_ in range(1,13): #gives all month lengths from 1901 to 2000\n",
      "        monthday += 1\n",
      "        d = number_days(month_,year_) #takes each month day individually\n",
      "        for days in range(1,(d+1)):\n",
      "            if days == 1 and W[monthday] == \"Sun\": #checks if first day was a Sunday\n",
      "                sundays += 1\n",
      "            elif monthday >= 7:\n",
      "                monthday = 0 #makes sure to break into weeks\n",
      "                \n",
      "print sundays\n",
      "        \n",
      "    "
     ],
     "language": "python",
     "metadata": {},
     "outputs": [
      {
       "output_type": "stream",
       "stream": "stdout",
       "text": [
        "171\n"
       ]
      }
     ],
     "prompt_number": 40
    },
    {
     "cell_type": "code",
     "collapsed": false,
     "input": [
      "number_days(2,1912) #checking for fun"
     ],
     "language": "python",
     "metadata": {},
     "outputs": [
      {
       "output_type": "pyout",
       "prompt_number": 18,
       "text": [
        "29"
       ]
      }
     ],
     "prompt_number": 18
    },
    {
     "cell_type": "code",
     "collapsed": false,
     "input": [],
     "language": "python",
     "metadata": {},
     "outputs": [],
     "prompt_number": 19
    },
    {
     "cell_type": "code",
     "collapsed": false,
     "input": [
      "import datetime #this way was way easier, then i saw your post :/\n",
      "\n",
      "sum_ = 0\n",
      "for y in range(1,101):\n",
      "    for m in range(1,13):\n",
      "        d = datetime.date(1900+y, m, 1) #gets every first day of month from 1901 to 2000\n",
      "        if d.weekday() == 6: #checks if it was a Sunday.....6...Built in!! woop woop!\n",
      "            sum_ += 1\n",
      "           \n",
      "print sum_"
     ],
     "language": "python",
     "metadata": {},
     "outputs": [
      {
       "output_type": "stream",
       "stream": "stdout",
       "text": [
        "171\n"
       ]
      }
     ],
     "prompt_number": 24
    },
    {
     "cell_type": "code",
     "collapsed": false,
     "input": [
      "d = datetime.date(2013,4,27)\n",
      "d.weekday()"
     ],
     "language": "python",
     "metadata": {},
     "outputs": [
      {
       "output_type": "pyout",
       "prompt_number": 31,
       "text": [
        "5"
       ]
      }
     ],
     "prompt_number": 31
    },
    {
     "cell_type": "code",
     "collapsed": false,
     "input": [],
     "language": "python",
     "metadata": {},
     "outputs": []
    }
   ],
   "metadata": {}
  }
 ]
}