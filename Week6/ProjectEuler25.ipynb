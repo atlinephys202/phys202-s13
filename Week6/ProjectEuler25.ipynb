{
 "metadata": {
  "name": "ProjectEuler25"
 },
 "nbformat": 3,
 "nbformat_minor": 0,
 "worksheets": [
  {
   "cells": [
    {
     "cell_type": "markdown",
     "metadata": {},
     "source": [
      "Project Euler 25\n",
      "=\n",
      "1000 Digit Fibonacci Number\n",
      "-\n",
      "\n",
      "$F_N$ = $F_{N-2}+F_{N-1}$,\n",
      "where $F_1$=1 and $F_2$=1"
     ]
    },
    {
     "cell_type": "code",
     "collapsed": false,
     "input": [
      "N = list(arange(1,13))\n",
      "N"
     ],
     "language": "python",
     "metadata": {},
     "outputs": [
      {
       "output_type": "pyout",
       "prompt_number": 9,
       "text": [
        "[1, 2, 3, 4, 5, 6, 7, 8, 9, 10, 11, 12]"
       ]
      }
     ],
     "prompt_number": 9
    },
    {
     "cell_type": "code",
     "collapsed": false,
     "input": [
      "#I'm thinking make a list that replaces items.....append only ads to end"
     ],
     "language": "python",
     "metadata": {},
     "outputs": [],
     "prompt_number": 8
    },
    {
     "cell_type": "code",
     "collapsed": false,
     "input": [
      "N.append[13]"
     ],
     "language": "python",
     "metadata": {},
     "outputs": [],
     "prompt_number": "*"
    },
    {
     "cell_type": "code",
     "collapsed": false,
     "input": [
      "N=range(1,5000)\n",
      "my_list=[1,1,2,3,5]\n",
      "\n",
      "for i in N:\n",
      "    my_list.append((my_list[i+3]+my_list[i+2]))\n",
      "for i in N:\n",
      "    if len(str(my_list[i]))==1000:\n",
      "        print i+1"
     ],
     "language": "python",
     "metadata": {},
     "outputs": [
      {
       "output_type": "stream",
       "stream": "stdout",
       "text": [
        "4782\n",
        "4783\n",
        "4784\n",
        "4785\n",
        "4786\n"
       ]
      }
     ],
     "prompt_number": 32
    },
    {
     "cell_type": "markdown",
     "metadata": {},
     "source": [
      "first is 4782 :)"
     ]
    },
    {
     "cell_type": "code",
     "collapsed": false,
     "input": [
      "print len(str(my_list[4781]))\n",
      "print len(str(my_list[4780]))"
     ],
     "language": "python",
     "metadata": {},
     "outputs": [
      {
       "output_type": "stream",
       "stream": "stdout",
       "text": [
        "1000\n",
        "999\n"
       ]
      }
     ],
     "prompt_number": 33
    },
    {
     "cell_type": "code",
     "collapsed": false,
     "input": [],
     "language": "python",
     "metadata": {},
     "outputs": []
    }
   ],
   "metadata": {}
  }
 ]
}