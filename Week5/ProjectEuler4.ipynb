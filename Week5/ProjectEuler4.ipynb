{
 "metadata": {
  "name": "ProjectEuler4"
 },
 "nbformat": 3,
 "nbformat_minor": 0,
 "worksheets": [
  {
   "cells": [
    {
     "cell_type": "code",
     "collapsed": false,
     "input": [
      "for i in range(100,1000):\n",
      "    for j in range(100,1000):\n",
      "        blah = list(str(i*j))\n",
      "        if blah == blah[::-1] and len(blah)>=6 and i*j>900000 :\n",
      "            print i,j\n",
      "            print i*j"
     ],
     "language": "python",
     "metadata": {},
     "outputs": [
      {
       "output_type": "stream",
       "stream": "stdout",
       "text": [
        "913 993\n",
        "906609\n",
        "993"
       ]
      },
      {
       "output_type": "stream",
       "stream": "stdout",
       "text": [
        " 913\n",
        "906609\n"
       ]
      }
     ],
     "prompt_number": 22
    },
    {
     "cell_type": "code",
     "collapsed": false,
     "input": [],
     "language": "python",
     "metadata": {},
     "outputs": [],
     "prompt_number": 8
    },
    {
     "cell_type": "code",
     "collapsed": false,
     "input": [],
     "language": "python",
     "metadata": {},
     "outputs": []
    }
   ],
   "metadata": {}
  }
 ]
}