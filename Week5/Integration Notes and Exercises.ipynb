{
 "metadata": {
  "name": "Integration Notes and Exercises"
 },
 "nbformat": 3,
 "nbformat_minor": 0,
 "worksheets": [
  {
   "cells": [
    {
     "cell_type": "code",
     "collapsed": false,
     "input": [
      "f = lambda x: x**4 - 2*x +1"
     ],
     "language": "python",
     "metadata": {},
     "outputs": [],
     "prompt_number": 31
    },
    {
     "cell_type": "code",
     "collapsed": false,
     "input": [
      "N=10\n",
      "a=0.0\n",
      "b=2.0\n",
      "h=(b-a)/N\n",
      "s=.5*f(a) + .5*f(b)\n",
      "for k in range(1,N):\n",
      "    s += f(a+k*h)\n",
      "print h*s"
     ],
     "language": "python",
     "metadata": {},
     "outputs": [
      {
       "output_type": "stream",
       "stream": "stdout",
       "text": [
        "4.50656\n"
       ]
      }
     ],
     "prompt_number": 32
    },
    {
     "cell_type": "code",
     "collapsed": false,
     "input": [
      "# N=100, 4.401066656 \n",
      "# N=1000, 4.40001066667"
     ],
     "language": "python",
     "metadata": {},
     "outputs": [],
     "prompt_number": 33
    },
    {
     "cell_type": "code",
     "collapsed": false,
     "input": [
      "N=10\n",
      "a=0.0\n",
      "b=2.0\n",
      "h=(b-a)/N\n",
      "s = f(a) + f(b)\n",
      "s1 = 0\n",
      "s2 = 0\n",
      "for k in range(1,(N/2)+1):\n",
      "    s1 += f(a + (2*k-1)*h)\n",
      "for k in range(1,(N/2)):\n",
      "    s2 += f(a+2*k*h)\n",
      "s_ = s + 4*s1 + 2*s2\n",
      "answer =  (1/3.)*h*s_\n",
      "print answer"
     ],
     "language": "python",
     "metadata": {},
     "outputs": [
      {
       "output_type": "stream",
       "stream": "stdout",
       "text": [
        "4.40042666667\n"
       ]
      }
     ],
     "prompt_number": 43
    },
    {
     "cell_type": "code",
     "collapsed": false,
     "input": [
      "percentError = (answer-4.4)/4.4\n",
      "print percentError\n",
      "# my error is the following:"
     ],
     "language": "python",
     "metadata": {},
     "outputs": [
      {
       "output_type": "stream",
       "stream": "stdout",
       "text": [
        "9.69696969697e-05\n"
       ]
      }
     ],
     "prompt_number": 44
    },
    {
     "cell_type": "code",
     "collapsed": false,
     "input": [
      "# N=100, 4.40000004267\n",
      "# N=1000, 4.4"
     ],
     "language": "python",
     "metadata": {},
     "outputs": [],
     "prompt_number": 45
    },
    {
     "cell_type": "code",
     "collapsed": false,
     "input": [
      "import scipy.integrate as integrate\n",
      "theta = linspace(0,pi,0.3)\n",
      "Iwrong = integrate.trapz(theta,cos(theta))\n",
      "print Iwrong\n",
      "\n",
      "#except this is actually correct... oops..."
     ],
     "language": "python",
     "metadata": {},
     "outputs": [
      {
       "output_type": "stream",
       "stream": "stdout",
       "text": [
        "0.0\n"
       ]
      }
     ],
     "prompt_number": 53
    },
    {
     "cell_type": "code",
     "collapsed": false,
     "input": [],
     "language": "python",
     "metadata": {},
     "outputs": []
    }
   ],
   "metadata": {}
  }
 ]
}