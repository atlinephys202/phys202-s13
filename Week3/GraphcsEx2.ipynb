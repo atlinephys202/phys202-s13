{
 "metadata": {
  "name": "GraphcsEx2"
 },
 "nbformat": 3,
 "nbformat_minor": 0,
 "worksheets": [
  {
   "cells": [
    {
     "cell_type": "markdown",
     "metadata": {},
     "source": [
      "Making Equations\n",
      "-"
     ]
    },
    {
     "cell_type": "markdown",
     "metadata": {},
     "source": [
      "\\begin{equation}\n",
      "\\psi_k(x) = A \\biggl(\\cfrac{ik-a\\tanh(ax)}{ik+a}\\biggr)e^{+ikx}\n",
      "\\end{equation}"
     ]
    },
    {
     "cell_type": "markdown",
     "metadata": {},
     "source": [
      "$\\upsilon_1 = m_2\\sqrt{\\cfrac{2G}{M} \\biggl(\\cfrac{1}{r} - \\cfrac{1}{r_0}\\biggr)}$"
     ]
    },
    {
     "cell_type": "markdown",
     "metadata": {},
     "source": [
      "$f(\\theta) = \\cfrac{\\hbar}{p}{\\displaystyle\\sum\\limits_{\\ell=0} ^\\infty} (2\\ell+1)e^{i\\delta_\\ell} \\sin\\delta_\\ell P_\\ell(cos\\theta)$"
     ]
    },
    {
     "cell_type": "markdown",
     "metadata": {},
     "source": [
      "$\\cfrac{d\\sigma}{d\\Omega} = \\cfrac{k\\pi^2(\\pi-\\theta)}{mu_0 ^2 \\theta^2(2\\pi-\\theta)^2\\sin\\theta}$"
     ]
    },
    {
     "cell_type": "markdown",
     "metadata": {},
     "source": [
      "$\\langle f \\rangle = \\cfrac{1}{\\tau}\\displaystyle\\int\\limits_0 ^\\tau f(t)dt$"
     ]
    },
    {
     "cell_type": "markdown",
     "metadata": {},
     "source": [
      "$\\Omega_S = \\omega\\cfrac{\\sin\\alpha}{\\sin\\theta} = \\cfrac{L}{\\lambda_1} = \\omega\\cfrac{\\sqrt{\\lambda_3 ^2 + (\\lambda_1 ^2 - \\lambda_3 ^2)\\sin\\alpha}}{\\lambda_1} $"
     ]
    },
    {
     "cell_type": "code",
     "collapsed": false,
     "input": [
      "pi\n",
      "b = pi/2\n",
      "b\n",
      "c = cosh(x)\n"
     ],
     "language": "python",
     "metadata": {},
     "outputs": [],
     "prompt_number": 43
    },
    {
     "cell_type": "code",
     "collapsed": false,
     "input": [
      "b = pi/2\n",
      "x = arange(-pi,pi+0.01,.001) \n",
      "c = cosh(x)\n",
      "U = -(1/c)**2\n",
      "plot(x,U)\n",
      "grid(True)"
     ],
     "language": "python",
     "metadata": {},
     "outputs": [
      {
       "output_type": "display_data",
       "png": "[encoded data removed]"
      }
     ],
     "prompt_number": 8
    },
    {
     "cell_type": "code",
     "collapsed": false,
     "input": [],
     "language": "python",
     "metadata": {},
     "outputs": []
    }
   ],
   "metadata": {}
  }
 ]
}