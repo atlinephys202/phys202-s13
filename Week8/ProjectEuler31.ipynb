{
 "metadata": {
  "name": "ProjectEuler31"
 },
 "nbformat": 3,
 "nbformat_minor": 0,
 "worksheets": [
  {
   "cells": [
    {
     "cell_type": "markdown",
     "metadata": {},
     "source": [
      "I'M NOT SURE HOW TO DO A TEST CASE FOR THIS ONE"
     ]
    },
    {
     "cell_type": "code",
     "collapsed": false,
     "input": [
      "count = 0\n",
      "for a in range(2):\n",
      "    if (200*a) > 200:\n",
      "        break\n",
      "    for b in range(3):\n",
      "        if (200*a + 100*b) > 200:\n",
      "            break                \n",
      "        for c in range(5):\n",
      "            if (200*a + 100*b + 50*c) > 200:\n",
      "                break                        \n",
      "            for d in range(11):\n",
      "                if (200*a + 100*b + 50*c + 20*d) > 200:\n",
      "                    break\n",
      "                for e in range(21):\n",
      "                    if (200*a + 100*b + 50*c + 20*d + 10*e) > 200:\n",
      "                        break\n",
      "                    for f in range(41):\n",
      "                        if (200*a + 100*b + 50*c + 20*d + 10*e + 5*f) > 200:\n",
      "                            break\n",
      "                        for g in range(101):\n",
      "                            if (200*a + 100*b + 50*c + 20*d + 10*e + 5*f\n",
      "                                  + 2*g) > 200:\n",
      "                                break                            \n",
      "                            for h in range(201):\n",
      "                               if (200*a + 100*b + 50*c + 20*d +\n",
      "                                    10*e + 5*f + 2*g + 1*h) > 200:\n",
      "                                    count += 1\n",
      "                                    break      \n",
      "                               \n",
      "                                   \n",
      "print count"
     ],
     "language": "python",
     "metadata": {},
     "outputs": [
      {
       "output_type": "stream",
       "stream": "stdout",
       "text": [
        "73681\n"
       ]
      }
     ],
     "prompt_number": 11
    },
    {
     "cell_type": "code",
     "collapsed": false,
     "input": [],
     "language": "python",
     "metadata": {},
     "outputs": []
    },
    {
     "cell_type": "code",
     "collapsed": false,
     "input": [],
     "language": "python",
     "metadata": {},
     "outputs": []
    }
   ],
   "metadata": {}
  }
 ]
}