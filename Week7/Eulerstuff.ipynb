{
 "metadata": {
  "name": "Eulerstuff"
 },
 "nbformat": 3,
 "nbformat_minor": 0,
 "worksheets": [
  {
   "cells": [
    {
     "cell_type": "markdown",
     "metadata": {},
     "source": [
      "Euler's Method:\n",
      "=\n",
      "\n",
      "$v(t_1) = v(t_0)+a(t_0)\\Delta t$\n",
      "\n",
      "$r(t_1) = r(t_0)+v(t_0)\\Delta t$"
     ]
    },
    {
     "cell_type": "markdown",
     "metadata": {},
     "source": [
      "Exercise#1\n",
      "-\n",
      "$\\cfrac{dy}{dx} = x + 2y$\n",
      "\n",
      "y(0)=0; find y(1);\n",
      "first step size = 0.25 then 0.02\n"
     ]
    },
    {
     "cell_type": "code",
     "collapsed": false,
     "input": [
      "N =50.\n",
      "xf = 1\n",
      "xi = 0\n",
      "dt = (xf-xi)/N\n",
      "x = 0\n",
      "y = 0\n",
      "y_list=[]\n",
      "for i in range(int(N)):\n",
      "    y += dt*(x+2*y)\n",
      "    x += dt\n",
      "    y_list.append(y)\n",
      "print y_list[49]\n"
     ],
     "language": "python",
     "metadata": {},
     "outputs": [
      {
       "output_type": "stream",
       "stream": "stdout",
       "text": [
        "1.02667083657\n"
       ]
      }
     ],
     "prompt_number": 6
    },
    {
     "cell_type": "code",
     "collapsed": false,
     "input": [
      "# when N= 50 (steps of 0.02)..... y = .515625\n",
      "# when N= 4 (steps of 0.25).......y = 1.02667083657"
     ],
     "language": "python",
     "metadata": {},
     "outputs": [],
     "prompt_number": 80
    },
    {
     "cell_type": "code",
     "collapsed": false,
     "input": [
      "xexact = arange(0,1.01,0.01)\n",
      "yexact = 0.25*exp(2*xexact) - 0.5*xexact - 0.25\n",
      "plot(xexact,yexact)\n",
      "show()"
     ],
     "language": "python",
     "metadata": {},
     "outputs": [
      {
       "output_type": "display_data",
       "png": "[encoded data removed]"
      }
     ],
     "prompt_number": 3
    },
    {
     "cell_type": "code",
     "collapsed": false,
     "input": [
      "xfirst = arange(0,1.01,.25)\n",
      "yfirst = \n",
      "plot(xfirst,yfirst)"
     ],
     "language": "python",
     "metadata": {},
     "outputs": [
      {
       "ename": "NameError",
       "evalue": "name 'yfirst' is not defined",
       "output_type": "pyerr",
       "traceback": [
        "\u001b[0;31m---------------------------------------------------------------------------\u001b[0m\n\u001b[0;31mNameError\u001b[0m                                 Traceback (most recent call last)",
        "\u001b[0;32m<ipython-input-8-dcf4faab1a48>\u001b[0m in \u001b[0;36m<module>\u001b[0;34m()\u001b[0m\n\u001b[1;32m      1\u001b[0m \u001b[0mxfirst\u001b[0m \u001b[0;34m=\u001b[0m \u001b[0marange\u001b[0m\u001b[0;34m(\u001b[0m\u001b[0;36m0\u001b[0m\u001b[0;34m,\u001b[0m\u001b[0;36m1.01\u001b[0m\u001b[0;34m,\u001b[0m\u001b[0;36m.25\u001b[0m\u001b[0;34m)\u001b[0m\u001b[0;34m\u001b[0m\u001b[0m\n\u001b[0;32m----> 2\u001b[0;31m \u001b[0mplot\u001b[0m\u001b[0;34m(\u001b[0m\u001b[0mxfirst\u001b[0m\u001b[0;34m,\u001b[0m\u001b[0myfirst\u001b[0m\u001b[0;34m)\u001b[0m\u001b[0;34m\u001b[0m\u001b[0m\n\u001b[0m",
        "\u001b[0;31mNameError\u001b[0m: name 'yfirst' is not defined"
       ]
      }
     ],
     "prompt_number": 8
    },
    {
     "cell_type": "markdown",
     "metadata": {},
     "source": [
      "Euler-Cromer Method\n",
      "-"
     ]
    },
    {
     "cell_type": "code",
     "collapsed": false,
     "input": [
      "N =50.\n",
      "xf = 1\n",
      "xi = 0\n",
      "dt = (xf-xi)/N\n",
      "x = 0\n",
      "y = 0\n",
      "y_list=[]\n",
      "for i in range(int(N)):\n",
      "    y += dt*(x+2*y) #change the function part to the next one\n",
      "    x += dt\n",
      "    y_list.append(y)\n",
      "print y_list[49]"
     ],
     "language": "python",
     "metadata": {},
     "outputs": []
    }
   ],
   "metadata": {}
  }
 ]
}