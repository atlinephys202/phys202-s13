{
 "metadata": {
  "name": "Cheatsheet"
 },
 "nbformat": 3,
 "nbformat_minor": 0,
 "worksheets": [
  {
   "cells": [
    {
     "cell_type": "markdown",
     "metadata": {},
     "source": [
      "Midterm Cheatsheet\n",
      "="
     ]
    },
    {
     "cell_type": "markdown",
     "metadata": {},
     "source": [
      "lists\n",
      "-"
     ]
    },
    {
     "cell_type": "code",
     "collapsed": false,
     "input": [
      "my_list = [1,2,3,4,5,6,7,8,9,0]\n",
      "\n",
      "print my_list[0], my_list[1]"
     ],
     "language": "python",
     "metadata": {},
     "outputs": [
      {
       "output_type": "stream",
       "stream": "stdout",
       "text": [
        "1 2\n"
       ]
      }
     ],
     "prompt_number": 3
    },
    {
     "cell_type": "code",
     "collapsed": false,
     "input": [
      "my_list.append(\"added\")\n",
      "print my_list"
     ],
     "language": "python",
     "metadata": {},
     "outputs": [
      {
       "output_type": "stream",
       "stream": "stdout",
       "text": [
        "[1, 2, 3, 4, 5, 6, 7, 8, 9, 0, 'added']\n"
       ]
      }
     ],
     "prompt_number": 5
    },
    {
     "cell_type": "code",
     "collapsed": false,
     "input": [
      "my_list[0:4]"
     ],
     "language": "python",
     "metadata": {},
     "outputs": [
      {
       "output_type": "pyout",
       "prompt_number": 6,
       "text": [
        "[1, 2, 3, 4]"
       ]
      }
     ],
     "prompt_number": 6
    },
    {
     "cell_type": "code",
     "collapsed": false,
     "input": [
      "my_list[0:9:2]"
     ],
     "language": "python",
     "metadata": {},
     "outputs": [
      {
       "output_type": "pyout",
       "prompt_number": 7,
       "text": [
        "[1, 3, 5, 7, 9]"
       ]
      }
     ],
     "prompt_number": 7
    },
    {
     "cell_type": "code",
     "collapsed": false,
     "input": [
      "my_list[4::]"
     ],
     "language": "python",
     "metadata": {},
     "outputs": [
      {
       "output_type": "pyout",
       "prompt_number": 8,
       "text": [
        "[5, 6, 7, 8, 9, 0, 'added']"
       ]
      }
     ],
     "prompt_number": 8
    },
    {
     "cell_type": "code",
     "collapsed": false,
     "input": [
      "my_list[::-1]"
     ],
     "language": "python",
     "metadata": {},
     "outputs": [
      {
       "output_type": "pyout",
       "prompt_number": 9,
       "text": [
        "['added', 0, 9, 8, 7, 6, 5, 4, 3, 2, 1]"
       ]
      }
     ],
     "prompt_number": 9
    },
    {
     "cell_type": "markdown",
     "metadata": {},
     "source": [
      "dictionaries\n",
      "-"
     ]
    },
    {
     "cell_type": "code",
     "collapsed": false,
     "input": [
      "my_dict = {1:\"first\",2:\"second\",3:\"third\",4:\"forth\",5:\"fifth\"}\n",
      "\n",
      "print my_dict[1]"
     ],
     "language": "python",
     "metadata": {},
     "outputs": [
      {
       "output_type": "stream",
       "stream": "stdout",
       "text": [
        "first\n"
       ]
      }
     ],
     "prompt_number": 11
    },
    {
     "cell_type": "code",
     "collapsed": false,
     "input": [
      "my_dict.values()"
     ],
     "language": "python",
     "metadata": {},
     "outputs": [
      {
       "output_type": "pyout",
       "prompt_number": 16,
       "text": [
        "['first', 'second', 'third', 'forth', 'fifth']"
       ]
      }
     ],
     "prompt_number": 16
    },
    {
     "cell_type": "markdown",
     "metadata": {},
     "source": [
      "length\n",
      "-"
     ]
    },
    {
     "cell_type": "code",
     "collapsed": false,
     "input": [
      "len(my_dict)"
     ],
     "language": "python",
     "metadata": {},
     "outputs": [
      {
       "output_type": "pyout",
       "prompt_number": 17,
       "text": [
        "5"
       ]
      }
     ],
     "prompt_number": 17
    },
    {
     "cell_type": "code",
     "collapsed": false,
     "input": [
      "len(my_list)"
     ],
     "language": "python",
     "metadata": {},
     "outputs": [
      {
       "output_type": "pyout",
       "prompt_number": 18,
       "text": [
        "11"
       ]
      }
     ],
     "prompt_number": 18
    },
    {
     "cell_type": "markdown",
     "metadata": {},
     "source": [
      "sum\n",
      "-"
     ]
    },
    {
     "cell_type": "code",
     "collapsed": false,
     "input": [
      "sum_ = 0\n",
      "for i in range(1,5):\n",
      "    sum_ = sum_ + 1\n",
      "    print sum_"
     ],
     "language": "python",
     "metadata": {},
     "outputs": [
      {
       "output_type": "stream",
       "stream": "stdout",
       "text": [
        "1\n",
        "2\n",
        "3\n",
        "4\n"
       ]
      }
     ],
     "prompt_number": 20
    },
    {
     "cell_type": "code",
     "collapsed": false,
     "input": [
      "sum_ = 0\n",
      "for i in range(1,5):\n",
      "    sum_+= 1\n",
      "    print sum_"
     ],
     "language": "python",
     "metadata": {},
     "outputs": [
      {
       "output_type": "stream",
       "stream": "stdout",
       "text": [
        "1\n",
        "2\n",
        "3\n",
        "4\n"
       ]
      }
     ],
     "prompt_number": 22
    },
    {
     "cell_type": "code",
     "collapsed": false,
     "input": [
      "sum_ = 0\n",
      "for i in range(1,5):\n",
      "    sum_+=i\n",
      "    print sum_   \"\"\"if print s in for loop, it will print step by step\"\"\""
     ],
     "language": "python",
     "metadata": {},
     "outputs": [
      {
       "output_type": "stream",
       "stream": "stdout",
       "text": [
        "1\n",
        "3\n",
        "6\n",
        "10\n"
       ]
      }
     ],
     "prompt_number": 23
    },
    {
     "cell_type": "code",
     "collapsed": false,
     "input": [
      "sum_ = 0\n",
      "for i in range(1,5):\n",
      "    sum_+=i\n",
      "print sum_    \"\"\"if print is out of for loop, it will print last step\"\"\""
     ],
     "language": "python",
     "metadata": {},
     "outputs": [
      {
       "output_type": "stream",
       "stream": "stdout",
       "text": [
        "10\n"
       ]
      }
     ],
     "prompt_number": 24
    },
    {
     "cell_type": "markdown",
     "metadata": {},
     "source": [
      "Markdowns\n",
      "-"
     ]
    },
    {
     "cell_type": "markdown",
     "metadata": {},
     "source": [
      "***remember the $.....$'s***\n",
      "\n",
      "\n",
      "\\cfrac{1}{2} =>  $\\cfrac{1}{2}$\n",
      "\n",
      "x^2 => $x^2$     x^{x^2} => $x^{x^2}$\n",
      "\n",
      "\\ell => $\\ell$\n",
      "\n",
      "\\biggl(blahblahblah\\biggr)   =>    $\\biggl(blahblahblah\\biggr)$  THERES ALSO \\bigl(\\bigr) $\\bigl(\\bigr)$\n",
      "\n",
      "\\sqrt{\\pi} => $\\sqrt{\\pi}$\n",
      "\n",
      "\\displaystyle\\Sigma => $\\displaystyle\\Sigma$\n",
      "\n",
      "\\displaystyle\\int => $\\displaystyle\\int$"
     ]
    },
    {
     "cell_type": "markdown",
     "metadata": {},
     "source": [
      "2D plotting\n",
      "-"
     ]
    },
    {
     "cell_type": "markdown",
     "metadata": {},
     "source": [
      "color = \"insertcolor\"\n",
      "\n",
      "\n",
      "linewidth = linewidth\n",
      "\n",
      "\n",
      "linestyle = \"--\" \".\" \"*\" all sorts of stuff\n",
      "\n",
      "\n",
      "xticks()  usually in arange()\n",
      "\n",
      "\n",
      "xlabel(\"insertlabel\")\n",
      "\n",
      "\n",
      "ylabel(\"insertlabel\")\n",
      "\n",
      "\n",
      "grid(True)\n",
      "\n",
      "\n",
      "legend(\"best\")"
     ]
    },
    {
     "cell_type": "markdown",
     "metadata": {},
     "source": [
      "3D plotting\n",
      "-"
     ]
    },
    {
     "cell_type": "markdown",
     "metadata": {},
     "source": [
      "from mpl_toolkits.mplot3d import Axes3D\n",
      "\n",
      "fig = figure()\n",
      "\n",
      "ax = fig.gca(projection=\"3d\")\n",
      "\n",
      "X,Y = meshgrid(arange(),arange())\n",
      "\n",
      "p = ax.plot_surface(X,Y,Function,rsride=,cstride=,cmap=cm.coolwarm)\n",
      "\n",
      "cb = fig.colorbar(p,shrink =(\"somewhere between 0 and 1\"))\n",
      "\n",
      "contour(X,Y,Function,linewidths=\"\")"
     ]
    },
    {
     "cell_type": "markdown",
     "metadata": {},
     "source": [
      "boolean masks\n",
      "-\n",
      "\n",
      "mask = (some boolean logic)\n",
      "apply mask to blah     blah[mask]"
     ]
    },
    {
     "cell_type": "markdown",
     "metadata": {},
     "source": [
      "interpolation\n",
      "-\n",
      "\n",
      "from scipy.interpolate import interp1d\n",
      "\n",
      "\n",
      "think sinNew = interp1d(theta,sin(theta))(thetaNew)"
     ]
    },
    {
     "cell_type": "code",
     "collapsed": false,
     "input": [],
     "language": "python",
     "metadata": {},
     "outputs": []
    }
   ],
   "metadata": {}
  }
 ]
}