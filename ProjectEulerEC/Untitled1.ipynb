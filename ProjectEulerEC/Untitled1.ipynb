{
 "metadata": {
  "name": "Untitled1"
 },
 "nbformat": 3,
 "nbformat_minor": 0,
 "worksheets": [
  {
   "cells": [
    {
     "cell_type": "code",
     "collapsed": false,
     "input": [
      "for i in range(0,100000):\n",
      "    if len(str(i))==1:\n",
      "        if map(int,list(str(i)))[0]**5 ==i:\n",
      "            print i\n",
      "    if len(str(i))==2:\n",
      "        if map(int,list(str(i)))[0]**5 + map(int,list(str(i)))[1]**5 == i:\n",
      "            print i\n",
      "    if len(str(i))==3:\n",
      "        if map(int,list(str(i)))[0]**5 + map(int,list(str(i)))[1]**5 + map(int,list(str(i)))[2]**5 == i:\n",
      "            print i\n",
      "    if len(str(i))==4:\n",
      "        if map(int,list(str(i)))[0]**5 + map(int,list(str(i)))[1]**5 + map(int,list(str(i)))[2]**5 + map(int,list(str(i)))[3]**5 == i:\n",
      "            print i\n",
      "    if len(str(i))==5:\n",
      "        if map(int,list(str(i)))[0]**5 +map(int,list(str(i)))[1]**5+map(int,list(str(i)))[2]**5+map(int,list(str(i)))[3]**5+map(int,list(str(i)))[4]**5 == i:\n",
      "            print i\n",
      "    if len(str(i))==6:\n",
      "        if map(int,list(str(i)))[0]**5 +map(int,list(str(i)))[1]**5+map(int,list(str(i)))[2]**5+map(int,list(str(i)))[3]**5+map(int,list(str(i)))[4]**5+map(int,list(str(i)))[5] == i:\n",
      "            print i\n",
      "    if len(str(i))==7:\n",
      "        if map(int,list(str(i)))[0]**5 +map(int,list(str(i)))[1]**5+map(int,list(str(i)))[2]**5+map(int,list(str(i)))[3]**5+map(int,list(str(i)))[4]**5+map(int,list(str(i)))[5] + map(int,list(str(i)))[6] == i:\n",
      "            print i\n",
      "    if len(str(i))>7:\n",
      "        break"
     ],
     "language": "python",
     "metadata": {},
     "outputs": [
      {
       "output_type": "stream",
       "stream": "stdout",
       "text": [
        "0\n",
        "1\n",
        "4150"
       ]
      },
      {
       "output_type": "stream",
       "stream": "stdout",
       "text": [
        "\n",
        "4151\n",
        "54748"
       ]
      },
      {
       "output_type": "stream",
       "stream": "stdout",
       "text": [
        "\n",
        "92727"
       ]
      },
      {
       "output_type": "stream",
       "stream": "stdout",
       "text": [
        "\n",
        "93084\n"
       ]
      }
     ],
     "prompt_number": 11
    },
    {
     "cell_type": "code",
     "collapsed": false,
     "input": [],
     "language": "python",
     "metadata": {},
     "outputs": []
    }
   ],
   "metadata": {}
  }
 ]
}