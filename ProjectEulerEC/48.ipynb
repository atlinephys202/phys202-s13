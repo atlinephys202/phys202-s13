{
 "metadata": {
  "name": "48"
 },
 "nbformat": 3,
 "nbformat_minor": 0,
 "worksheets": [
  {
   "cells": [
    {
     "cell_type": "markdown",
     "metadata": {},
     "source": [
      "48 Self Powers"
     ]
    },
    {
     "cell_type": "code",
     "collapsed": false,
     "input": [
      "selfpower = 0\n",
      "for i in range(1,11):\n",
      "    selfpower += i**i\n",
      "    \n",
      "print selfpower"
     ],
     "language": "python",
     "metadata": {},
     "outputs": [
      {
       "output_type": "stream",
       "stream": "stdout",
       "text": [
        "10405071317\n"
       ]
      }
     ],
     "prompt_number": 7
    },
    {
     "cell_type": "code",
     "collapsed": false,
     "input": [
      "selfpower = 0\n",
      "for i in range(1,1001):\n",
      "    selfpower += i**i\n",
      "print list(str(selfpower))[len(list(str(selfpower)))-10:]"
     ],
     "language": "python",
     "metadata": {},
     "outputs": [
      {
       "output_type": "stream",
       "stream": "stdout",
       "text": [
        "['9', '1', '1', '0', '8', '4', '6', '7', '0', '0']\n"
       ]
      }
     ],
     "prompt_number": 23
    },
    {
     "cell_type": "code",
     "collapsed": false,
     "input": [],
     "language": "python",
     "metadata": {},
     "outputs": []
    }
   ],
   "metadata": {}
  }
 ]
}