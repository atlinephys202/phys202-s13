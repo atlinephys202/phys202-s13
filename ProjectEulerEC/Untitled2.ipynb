{
 "metadata": {
  "name": "Untitled2"
 },
 "nbformat": 3,
 "nbformat_minor": 0,
 "worksheets": [
  {
   "cells": [
    {
     "cell_type": "code",
     "collapsed": false,
     "input": [
      "for i in range(10,10000000):\n",
      "    if i%2!=0 and i%3!=0 and i%5!=0 and i%7!=0:\n",
      "        if 600851475143%i==0:\n",
      "            print i"
     ],
     "language": "python",
     "metadata": {},
     "outputs": [],
     "prompt_number": "*"
    },
    {
     "cell_type": "code",
     "collapsed": false,
     "input": [],
     "language": "python",
     "metadata": {},
     "outputs": []
    }
   ],
   "metadata": {}
  }
 ]
}