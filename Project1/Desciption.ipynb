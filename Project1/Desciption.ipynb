{
 "metadata": {
  "name": "Desciption"
 },
 "nbformat": 3,
 "nbformat_minor": 0,
 "worksheets": [
  {
   "cells": [
    {
     "cell_type": "raw",
     "metadata": {},
     "source": [
      "    Cosmic ray showers occur when nuclei are bombarded upon Earth's atmosphere. The particles interact with other particles and spray in a conic fashion upon the surface. These particles normally cannot exist long enough to be detected on the surface. Luckily, due to the twisted laws of special relavtivity, their relativistic speeds allow for length contraction and time dilation. The particles break into muons which can be detected. With a setup of detectors and a technique mostly used by air traffic controllers called multilteration, one can take the arrival time differences between detectors to determine the location and incident angle of initial interaction with the atmosphere.\n",
      "    With this program, I will attempt to simulate particle interactions and muon detection using the programming language\n",
      "Python. To begin, I gathered 3 dimensional cartesian coordinates of where my detectors would be placed. I then created a 3-Dimensional plot for visualization purposes. I then created random interaction locations by randomizing a radius and angle to create a point using polar coordinates in a two space area with a 1.3km diameter. Another random angle was created for an interaction angle from 0 to pi radians. When the particles interact with the atmosphere, they spray muons in a cone with one degree half angle opening. From this information and initial conditions, I was able to project an ellipse onto a 2 dimensional representation of my detector layout using a simple built in function of Python's. Only the rotation angle, width, height, and origin point of the ellipse was necessary which could be calculated using simple trigonometric interpretations.\n",
      "    This made it exceptionally simple to determine which detectors would be in the muon zone. This was accomplished by using the general formula for the inside of an ellipse. I was able to use a simple logical for loop to sift through every detectors location and if the equation for the ellipse was satisfied, the detector would be returned from its index number. Knowing the hit detectors' locations was part one for using multilateration to backtrack the initial interaction location. The next step is finding the differences in arrival time to each detector. This was a slightly epirical approach. Using a gaussian distribution for the total energy of the detected muons, I was able to randomly generate total energies for these detected muons. Knowing the rest energy for muons, I was able to subtract that from total energy and use the kinetic energy (relativistically) to extract the velocities of each muon. Now we know the distance and velocities to the detectors which easily gives us travel time.\n",
      "    Now, with the travel times to each detector, I can sort it and find the quickest muon (t0) and its travel time. However, it's the differences in detector time that's important. So we subtract the quickest travel time from each individual travel time. Then an uncertainty value based on each individual difference is added to t0 for new relative arrival times. Now that we have the locations of the detectors and the relative arrival times, we can plug and chug into a multilateration equation found on wikipedia which will return a nonhomogenous set of linear equations. I then consolodated these equations into a matrix and used linear algebra and the built in Python function to solve for the unknowns (x,y,z) which represented the coordinates of interaction."
     ]
    }
   ],
   "metadata": {}
  }
 ]
}