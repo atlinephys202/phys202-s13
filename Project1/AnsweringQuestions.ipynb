{
 "metadata": {
  "name": "AnsweringQuestions"
 },
 "nbformat": 3,
 "nbformat_minor": 0,
 "worksheets": [
  {
   "cells": [
    {
     "cell_type": "markdown",
     "metadata": {},
     "source": [
      "Answering questions\n",
      "="
     ]
    },
    {
     "cell_type": "raw",
     "metadata": {},
     "source": [
      "What parameter is better determined?\n",
      "\n",
      "Well, my program ended up having problems in being inaccurate and unable to look for the initial angle of interaction. Therefore, I would say the interaction point was better determined. I feel that with a working program, the better determined parameter would still be the point. \n",
      "\n",
      "\n",
      "What might influence the uncertainties in your reconstructed results? How would you minimize error.\n",
      "\n",
      "I believe the amount of detectors would be crucial to the accuracy of the results. This would be an easy fix of just adding more detectors.\n",
      "Also, I think broadening the area of which the detectors were spread would help too. Although this goes hand in hand with adding more detectors. Also, the only way I could find to solve the linear set of equations was to solve as a square matrix. You only need 3 equations to solve for 3 variables, but I believe solving for the set of all equations made from the multilateration equation I found on wikipedia. I am to believe that it makes a close guess if an actual solution isn't available.\n",
      "\n",
      "\n",
      "What is the efficiency of your results?\n",
      "\n",
      "Mine would be close to zero at this point...\n",
      "\n",
      "\n",
      "How many events were tossed out because fewer than 3 detectors were hit?"
     ]
    }
   ],
   "metadata": {}
  }
 ]
}